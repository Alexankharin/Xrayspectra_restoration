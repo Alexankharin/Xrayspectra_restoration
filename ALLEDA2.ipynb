{
 "cells": [
  {
   "cell_type": "code",
   "execution_count": 1,
   "id": "bc07833c",
   "metadata": {},
   "outputs": [],
   "source": [
    "import pandas as pd\n",
    "import numpy as np\n",
    "import torch \n",
    "import matplotlib.pyplot as plt\n",
    "import os"
   ]
  },
  {
   "cell_type": "code",
   "execution_count": 2,
   "id": "85e9a4a9",
   "metadata": {},
   "outputs": [
    {
     "data": {
      "text/plain": [
       "\"ctr=0\\nAlldata=pd.DataFrame()\\nfor maxenergy in os.listdir('Allspecs/')[-6:]:\\n    path='Allspecs/'+maxenergy +'/'\\n    for filename in os.listdir(path):\\n        _,el1,size,el2=filename.split('_')\\n        el2=el2[:-4]\\n        size=float(size[:-2])\\n        name=str((el1,el2,size,maxenergy))\\n        singledata=pd.read_csv(path+ filename,sep=' ',names=['E',name])\\n        Alldata=pd.concat([Alldata,singledata[name]],axis=1)\\n        #Alldata[str((maxenergy,el1,el2,size))]=singledata['I']\\n        #ctr=ctr+1\\n    print (maxenergy)\""
      ]
     },
     "execution_count": 2,
     "metadata": {},
     "output_type": "execute_result"
    }
   ],
   "source": [
    "'''ctr=0\n",
    "Alldata=pd.DataFrame()\n",
    "for maxenergy in os.listdir('Allspecs/')[-6:]:\n",
    "    path='Allspecs/'+maxenergy +'/'\n",
    "    for filename in os.listdir(path):\n",
    "        _,el1,size,el2=filename.split('_')\n",
    "        el2=el2[:-4]\n",
    "        size=float(size[:-2])\n",
    "        name=str((el1,el2,size,maxenergy))\n",
    "        singledata=pd.read_csv(path+ filename,sep=' ',names=['E',name])\n",
    "        Alldata=pd.concat([Alldata,singledata[name]],axis=1)\n",
    "        #Alldata[str((maxenergy,el1,el2,size))]=singledata['I']\n",
    "        #ctr=ctr+1\n",
    "    print (maxenergy)'''"
   ]
  },
  {
   "cell_type": "code",
   "execution_count": 3,
   "id": "9aff5d4e",
   "metadata": {},
   "outputs": [
    {
     "name": "stderr",
     "output_type": "stream",
     "text": [
      "C:\\Users\\anona\\AppData\\Local\\Temp\\ipykernel_11388\\3221147074.py:4: PerformanceWarning: DataFrame is highly fragmented.  This is usually the result of calling `frame.insert` many times, which has poor performance.  Consider joining all columns at once using pd.concat(axis=1) instead. To get a de-fragmented frame, use `newframe = frame.copy()`\n",
      "  Alldata['E']=Alldata.index+1\n"
     ]
    }
   ],
   "source": [
    "Alldata=pd.read_pickle('allspecs.pkl')\n",
    "Alldata=Alldata[9:]\n",
    "Alldata=Alldata/Alldata.sum(0)\n",
    "Alldata['E']=Alldata.index+1\n",
    "Alldata=Alldata.copy()"
   ]
  },
  {
   "cell_type": "code",
   "execution_count": 4,
   "id": "289056da",
   "metadata": {},
   "outputs": [
    {
     "data": {
      "text/html": [
       "<div>\n",
       "<style scoped>\n",
       "    .dataframe tbody tr th:only-of-type {\n",
       "        vertical-align: middle;\n",
       "    }\n",
       "\n",
       "    .dataframe tbody tr th {\n",
       "        vertical-align: top;\n",
       "    }\n",
       "\n",
       "    .dataframe thead th {\n",
       "        text-align: right;\n",
       "    }\n",
       "</style>\n",
       "<table border=\"1\" class=\"dataframe\">\n",
       "  <thead>\n",
       "    <tr style=\"text-align: right;\">\n",
       "      <th></th>\n",
       "      <th>('Al', 'Ag', 0.0, '100')</th>\n",
       "      <th>('Al', 'Cu', 0.0, '100')</th>\n",
       "      <th>('Al', 'Mo', 0.0, '100')</th>\n",
       "      <th>('Al', 'Pd', 0.0, '100')</th>\n",
       "      <th>('Al', 'Rh', 0.0, '100')</th>\n",
       "      <th>('Al', 'W', 0.0, '100')</th>\n",
       "      <th>('Al', 'Ag', 0.01, '100')</th>\n",
       "      <th>('Al', 'Cu', 0.01, '100')</th>\n",
       "      <th>('Al', 'Mo', 0.01, '100')</th>\n",
       "      <th>('Al', 'Pd', 0.01, '100')</th>\n",
       "      <th>...</th>\n",
       "      <th>('Al', 'Pd', 4.99, '95')</th>\n",
       "      <th>('Al', 'Rh', 4.99, '95')</th>\n",
       "      <th>('Al', 'W', 4.99, '95')</th>\n",
       "      <th>('Al', 'Ag', 5.0, '95')</th>\n",
       "      <th>('Al', 'Cu', 5.0, '95')</th>\n",
       "      <th>('Al', 'Mo', 5.0, '95')</th>\n",
       "      <th>('Al', 'Pd', 5.0, '95')</th>\n",
       "      <th>('Al', 'Rh', 5.0, '95')</th>\n",
       "      <th>('Al', 'W', 5.0, '95')</th>\n",
       "      <th>E</th>\n",
       "    </tr>\n",
       "  </thead>\n",
       "  <tbody>\n",
       "    <tr>\n",
       "      <th>9</th>\n",
       "      <td>0.007523</td>\n",
       "      <td>0.006881</td>\n",
       "      <td>0.009562</td>\n",
       "      <td>0.007486</td>\n",
       "      <td>0.007735</td>\n",
       "      <td>0.128561</td>\n",
       "      <td>0.004008</td>\n",
       "      <td>0.003582</td>\n",
       "      <td>0.005303</td>\n",
       "      <td>0.004006</td>\n",
       "      <td>...</td>\n",
       "      <td>0.0</td>\n",
       "      <td>0.0</td>\n",
       "      <td>0.0</td>\n",
       "      <td>0.0</td>\n",
       "      <td>0.0</td>\n",
       "      <td>0.0</td>\n",
       "      <td>0.0</td>\n",
       "      <td>0.0</td>\n",
       "      <td>0.0</td>\n",
       "      <td>10</td>\n",
       "    </tr>\n",
       "    <tr>\n",
       "      <th>10</th>\n",
       "      <td>0.009120</td>\n",
       "      <td>0.008221</td>\n",
       "      <td>0.011499</td>\n",
       "      <td>0.009124</td>\n",
       "      <td>0.009468</td>\n",
       "      <td>0.022806</td>\n",
       "      <td>0.005770</td>\n",
       "      <td>0.005082</td>\n",
       "      <td>0.007575</td>\n",
       "      <td>0.005798</td>\n",
       "      <td>...</td>\n",
       "      <td>0.0</td>\n",
       "      <td>0.0</td>\n",
       "      <td>0.0</td>\n",
       "      <td>0.0</td>\n",
       "      <td>0.0</td>\n",
       "      <td>0.0</td>\n",
       "      <td>0.0</td>\n",
       "      <td>0.0</td>\n",
       "      <td>0.0</td>\n",
       "      <td>11</td>\n",
       "    </tr>\n",
       "    <tr>\n",
       "      <th>11</th>\n",
       "      <td>0.010851</td>\n",
       "      <td>0.009686</td>\n",
       "      <td>0.013539</td>\n",
       "      <td>0.010743</td>\n",
       "      <td>0.011083</td>\n",
       "      <td>0.015354</td>\n",
       "      <td>0.007733</td>\n",
       "      <td>0.006743</td>\n",
       "      <td>0.010045</td>\n",
       "      <td>0.007690</td>\n",
       "      <td>...</td>\n",
       "      <td>0.0</td>\n",
       "      <td>0.0</td>\n",
       "      <td>0.0</td>\n",
       "      <td>0.0</td>\n",
       "      <td>0.0</td>\n",
       "      <td>0.0</td>\n",
       "      <td>0.0</td>\n",
       "      <td>0.0</td>\n",
       "      <td>0.0</td>\n",
       "      <td>12</td>\n",
       "    </tr>\n",
       "    <tr>\n",
       "      <th>12</th>\n",
       "      <td>0.012550</td>\n",
       "      <td>0.011141</td>\n",
       "      <td>0.015360</td>\n",
       "      <td>0.012336</td>\n",
       "      <td>0.012766</td>\n",
       "      <td>0.013157</td>\n",
       "      <td>0.009727</td>\n",
       "      <td>0.008437</td>\n",
       "      <td>0.012395</td>\n",
       "      <td>0.009603</td>\n",
       "      <td>...</td>\n",
       "      <td>0.0</td>\n",
       "      <td>0.0</td>\n",
       "      <td>0.0</td>\n",
       "      <td>0.0</td>\n",
       "      <td>0.0</td>\n",
       "      <td>0.0</td>\n",
       "      <td>0.0</td>\n",
       "      <td>0.0</td>\n",
       "      <td>0.0</td>\n",
       "      <td>13</td>\n",
       "    </tr>\n",
       "    <tr>\n",
       "      <th>13</th>\n",
       "      <td>0.014036</td>\n",
       "      <td>0.012454</td>\n",
       "      <td>0.017009</td>\n",
       "      <td>0.014042</td>\n",
       "      <td>0.014576</td>\n",
       "      <td>0.014466</td>\n",
       "      <td>0.011610</td>\n",
       "      <td>0.010066</td>\n",
       "      <td>0.014648</td>\n",
       "      <td>0.011666</td>\n",
       "      <td>...</td>\n",
       "      <td>0.0</td>\n",
       "      <td>0.0</td>\n",
       "      <td>0.0</td>\n",
       "      <td>0.0</td>\n",
       "      <td>0.0</td>\n",
       "      <td>0.0</td>\n",
       "      <td>0.0</td>\n",
       "      <td>0.0</td>\n",
       "      <td>0.0</td>\n",
       "      <td>14</td>\n",
       "    </tr>\n",
       "    <tr>\n",
       "      <th>...</th>\n",
       "      <td>...</td>\n",
       "      <td>...</td>\n",
       "      <td>...</td>\n",
       "      <td>...</td>\n",
       "      <td>...</td>\n",
       "      <td>...</td>\n",
       "      <td>...</td>\n",
       "      <td>...</td>\n",
       "      <td>...</td>\n",
       "      <td>...</td>\n",
       "      <td>...</td>\n",
       "      <td>...</td>\n",
       "      <td>...</td>\n",
       "      <td>...</td>\n",
       "      <td>...</td>\n",
       "      <td>...</td>\n",
       "      <td>...</td>\n",
       "      <td>...</td>\n",
       "      <td>...</td>\n",
       "      <td>...</td>\n",
       "      <td>...</td>\n",
       "    </tr>\n",
       "    <tr>\n",
       "      <th>245</th>\n",
       "      <td>NaN</td>\n",
       "      <td>NaN</td>\n",
       "      <td>NaN</td>\n",
       "      <td>NaN</td>\n",
       "      <td>NaN</td>\n",
       "      <td>NaN</td>\n",
       "      <td>NaN</td>\n",
       "      <td>NaN</td>\n",
       "      <td>NaN</td>\n",
       "      <td>NaN</td>\n",
       "      <td>...</td>\n",
       "      <td>NaN</td>\n",
       "      <td>NaN</td>\n",
       "      <td>NaN</td>\n",
       "      <td>NaN</td>\n",
       "      <td>NaN</td>\n",
       "      <td>NaN</td>\n",
       "      <td>NaN</td>\n",
       "      <td>NaN</td>\n",
       "      <td>NaN</td>\n",
       "      <td>246</td>\n",
       "    </tr>\n",
       "    <tr>\n",
       "      <th>246</th>\n",
       "      <td>NaN</td>\n",
       "      <td>NaN</td>\n",
       "      <td>NaN</td>\n",
       "      <td>NaN</td>\n",
       "      <td>NaN</td>\n",
       "      <td>NaN</td>\n",
       "      <td>NaN</td>\n",
       "      <td>NaN</td>\n",
       "      <td>NaN</td>\n",
       "      <td>NaN</td>\n",
       "      <td>...</td>\n",
       "      <td>NaN</td>\n",
       "      <td>NaN</td>\n",
       "      <td>NaN</td>\n",
       "      <td>NaN</td>\n",
       "      <td>NaN</td>\n",
       "      <td>NaN</td>\n",
       "      <td>NaN</td>\n",
       "      <td>NaN</td>\n",
       "      <td>NaN</td>\n",
       "      <td>247</td>\n",
       "    </tr>\n",
       "    <tr>\n",
       "      <th>247</th>\n",
       "      <td>NaN</td>\n",
       "      <td>NaN</td>\n",
       "      <td>NaN</td>\n",
       "      <td>NaN</td>\n",
       "      <td>NaN</td>\n",
       "      <td>NaN</td>\n",
       "      <td>NaN</td>\n",
       "      <td>NaN</td>\n",
       "      <td>NaN</td>\n",
       "      <td>NaN</td>\n",
       "      <td>...</td>\n",
       "      <td>NaN</td>\n",
       "      <td>NaN</td>\n",
       "      <td>NaN</td>\n",
       "      <td>NaN</td>\n",
       "      <td>NaN</td>\n",
       "      <td>NaN</td>\n",
       "      <td>NaN</td>\n",
       "      <td>NaN</td>\n",
       "      <td>NaN</td>\n",
       "      <td>248</td>\n",
       "    </tr>\n",
       "    <tr>\n",
       "      <th>248</th>\n",
       "      <td>NaN</td>\n",
       "      <td>NaN</td>\n",
       "      <td>NaN</td>\n",
       "      <td>NaN</td>\n",
       "      <td>NaN</td>\n",
       "      <td>NaN</td>\n",
       "      <td>NaN</td>\n",
       "      <td>NaN</td>\n",
       "      <td>NaN</td>\n",
       "      <td>NaN</td>\n",
       "      <td>...</td>\n",
       "      <td>NaN</td>\n",
       "      <td>NaN</td>\n",
       "      <td>NaN</td>\n",
       "      <td>NaN</td>\n",
       "      <td>NaN</td>\n",
       "      <td>NaN</td>\n",
       "      <td>NaN</td>\n",
       "      <td>NaN</td>\n",
       "      <td>NaN</td>\n",
       "      <td>249</td>\n",
       "    </tr>\n",
       "    <tr>\n",
       "      <th>249</th>\n",
       "      <td>NaN</td>\n",
       "      <td>NaN</td>\n",
       "      <td>NaN</td>\n",
       "      <td>NaN</td>\n",
       "      <td>NaN</td>\n",
       "      <td>NaN</td>\n",
       "      <td>NaN</td>\n",
       "      <td>NaN</td>\n",
       "      <td>NaN</td>\n",
       "      <td>NaN</td>\n",
       "      <td>...</td>\n",
       "      <td>NaN</td>\n",
       "      <td>NaN</td>\n",
       "      <td>NaN</td>\n",
       "      <td>NaN</td>\n",
       "      <td>NaN</td>\n",
       "      <td>NaN</td>\n",
       "      <td>NaN</td>\n",
       "      <td>NaN</td>\n",
       "      <td>NaN</td>\n",
       "      <td>250</td>\n",
       "    </tr>\n",
       "  </tbody>\n",
       "</table>\n",
       "<p>241 rows × 51562 columns</p>\n",
       "</div>"
      ],
      "text/plain": [
       "     ('Al', 'Ag', 0.0, '100')  ('Al', 'Cu', 0.0, '100')  \\\n",
       "9                    0.007523                  0.006881   \n",
       "10                   0.009120                  0.008221   \n",
       "11                   0.010851                  0.009686   \n",
       "12                   0.012550                  0.011141   \n",
       "13                   0.014036                  0.012454   \n",
       "..                        ...                       ...   \n",
       "245                       NaN                       NaN   \n",
       "246                       NaN                       NaN   \n",
       "247                       NaN                       NaN   \n",
       "248                       NaN                       NaN   \n",
       "249                       NaN                       NaN   \n",
       "\n",
       "     ('Al', 'Mo', 0.0, '100')  ('Al', 'Pd', 0.0, '100')  \\\n",
       "9                    0.009562                  0.007486   \n",
       "10                   0.011499                  0.009124   \n",
       "11                   0.013539                  0.010743   \n",
       "12                   0.015360                  0.012336   \n",
       "13                   0.017009                  0.014042   \n",
       "..                        ...                       ...   \n",
       "245                       NaN                       NaN   \n",
       "246                       NaN                       NaN   \n",
       "247                       NaN                       NaN   \n",
       "248                       NaN                       NaN   \n",
       "249                       NaN                       NaN   \n",
       "\n",
       "     ('Al', 'Rh', 0.0, '100')  ('Al', 'W', 0.0, '100')  \\\n",
       "9                    0.007735                 0.128561   \n",
       "10                   0.009468                 0.022806   \n",
       "11                   0.011083                 0.015354   \n",
       "12                   0.012766                 0.013157   \n",
       "13                   0.014576                 0.014466   \n",
       "..                        ...                      ...   \n",
       "245                       NaN                      NaN   \n",
       "246                       NaN                      NaN   \n",
       "247                       NaN                      NaN   \n",
       "248                       NaN                      NaN   \n",
       "249                       NaN                      NaN   \n",
       "\n",
       "     ('Al', 'Ag', 0.01, '100')  ('Al', 'Cu', 0.01, '100')  \\\n",
       "9                     0.004008                   0.003582   \n",
       "10                    0.005770                   0.005082   \n",
       "11                    0.007733                   0.006743   \n",
       "12                    0.009727                   0.008437   \n",
       "13                    0.011610                   0.010066   \n",
       "..                         ...                        ...   \n",
       "245                        NaN                        NaN   \n",
       "246                        NaN                        NaN   \n",
       "247                        NaN                        NaN   \n",
       "248                        NaN                        NaN   \n",
       "249                        NaN                        NaN   \n",
       "\n",
       "     ('Al', 'Mo', 0.01, '100')  ('Al', 'Pd', 0.01, '100')  ...  \\\n",
       "9                     0.005303                   0.004006  ...   \n",
       "10                    0.007575                   0.005798  ...   \n",
       "11                    0.010045                   0.007690  ...   \n",
       "12                    0.012395                   0.009603  ...   \n",
       "13                    0.014648                   0.011666  ...   \n",
       "..                         ...                        ...  ...   \n",
       "245                        NaN                        NaN  ...   \n",
       "246                        NaN                        NaN  ...   \n",
       "247                        NaN                        NaN  ...   \n",
       "248                        NaN                        NaN  ...   \n",
       "249                        NaN                        NaN  ...   \n",
       "\n",
       "     ('Al', 'Pd', 4.99, '95')  ('Al', 'Rh', 4.99, '95')  \\\n",
       "9                         0.0                       0.0   \n",
       "10                        0.0                       0.0   \n",
       "11                        0.0                       0.0   \n",
       "12                        0.0                       0.0   \n",
       "13                        0.0                       0.0   \n",
       "..                        ...                       ...   \n",
       "245                       NaN                       NaN   \n",
       "246                       NaN                       NaN   \n",
       "247                       NaN                       NaN   \n",
       "248                       NaN                       NaN   \n",
       "249                       NaN                       NaN   \n",
       "\n",
       "     ('Al', 'W', 4.99, '95')  ('Al', 'Ag', 5.0, '95')  \\\n",
       "9                        0.0                      0.0   \n",
       "10                       0.0                      0.0   \n",
       "11                       0.0                      0.0   \n",
       "12                       0.0                      0.0   \n",
       "13                       0.0                      0.0   \n",
       "..                       ...                      ...   \n",
       "245                      NaN                      NaN   \n",
       "246                      NaN                      NaN   \n",
       "247                      NaN                      NaN   \n",
       "248                      NaN                      NaN   \n",
       "249                      NaN                      NaN   \n",
       "\n",
       "     ('Al', 'Cu', 5.0, '95')  ('Al', 'Mo', 5.0, '95')  \\\n",
       "9                        0.0                      0.0   \n",
       "10                       0.0                      0.0   \n",
       "11                       0.0                      0.0   \n",
       "12                       0.0                      0.0   \n",
       "13                       0.0                      0.0   \n",
       "..                       ...                      ...   \n",
       "245                      NaN                      NaN   \n",
       "246                      NaN                      NaN   \n",
       "247                      NaN                      NaN   \n",
       "248                      NaN                      NaN   \n",
       "249                      NaN                      NaN   \n",
       "\n",
       "     ('Al', 'Pd', 5.0, '95')  ('Al', 'Rh', 5.0, '95')  ('Al', 'W', 5.0, '95')  \\\n",
       "9                        0.0                      0.0                     0.0   \n",
       "10                       0.0                      0.0                     0.0   \n",
       "11                       0.0                      0.0                     0.0   \n",
       "12                       0.0                      0.0                     0.0   \n",
       "13                       0.0                      0.0                     0.0   \n",
       "..                       ...                      ...                     ...   \n",
       "245                      NaN                      NaN                     NaN   \n",
       "246                      NaN                      NaN                     NaN   \n",
       "247                      NaN                      NaN                     NaN   \n",
       "248                      NaN                      NaN                     NaN   \n",
       "249                      NaN                      NaN                     NaN   \n",
       "\n",
       "       E  \n",
       "9     10  \n",
       "10    11  \n",
       "11    12  \n",
       "12    13  \n",
       "13    14  \n",
       "..   ...  \n",
       "245  246  \n",
       "246  247  \n",
       "247  248  \n",
       "248  249  \n",
       "249  250  \n",
       "\n",
       "[241 rows x 51562 columns]"
      ]
     },
     "execution_count": 4,
     "metadata": {},
     "output_type": "execute_result"
    }
   ],
   "source": [
    "Alldata"
   ]
  },
  {
   "cell_type": "code",
   "execution_count": 5,
   "id": "1b490e9b",
   "metadata": {},
   "outputs": [],
   "source": [
    "monochromatic=pd.read_excel('Глубинные распределения.Вода.xlsx',header=1,skiprows=[0,1,1004,1005,1006],names=['N']+[str((a+10)) for a in range(241)])\n",
    "monochromaticnorm=monochromatic/monochromatic.sum(0)\n",
    "monochromaticnorm['N']=monochromatic['N']"
   ]
  },
  {
   "cell_type": "code",
   "execution_count": 5,
   "id": "d233ab3c",
   "metadata": {},
   "outputs": [],
   "source": [
    "distributions=(np.array(monochromaticnorm[monochromaticnorm.columns[1:]])@np.array(Alldata.fillna(0))[:,:-1]).T\n",
    "specs=np.array(Alldata[Alldata.columns[:-1]].fillna(0.0)).T\n",
    "basis=np.array(monochromaticnorm[monochromaticnorm.columns[1:]])\n",
    "basis=torch.tensor(basis).cuda()"
   ]
  },
  {
   "cell_type": "code",
   "execution_count": 20,
   "id": "38b76b89",
   "metadata": {},
   "outputs": [],
   "source": [
    "class Dosedistr(torch.nn.Module):\n",
    "    def __init__(self, N_inputs=51561):\n",
    "        super().__init__()\n",
    "        self.specs=torch.nn.parameter.Parameter(data=torch.rand(241,N_inputs)/100, requires_grad=True)\n",
    "    def forward(self, basis):\n",
    "        outs=basis@self.specs\n",
    "        return outs.T"
   ]
  },
  {
   "cell_type": "code",
   "execution_count": 21,
   "id": "0481c52e",
   "metadata": {},
   "outputs": [],
   "source": [
    "def trainstep(model,basis,target, optimizer,lossfn=torch.nn.MSELoss()):\n",
    "    optimizer.zero_grad()\n",
    "    out=model(basis)\n",
    "    l2_reg=0\n",
    "    #model.spectrum.weight.data[:,:,:]=model.spectrum.weight.data[:,:,:]/model.spectrum.weight.data[:,:,:].sum(1,keepdim=True)\n",
    "    #for param in model.parameters():\n",
    "    gradx=(model.specs[1:-1,:]-model.specs.roll(1,-2)[1:-1,:])*1\n",
    "    l2_smooth = gradx.square().mean()\n",
    "    loss=(lossfn(out, target)*10000+l2_smooth*1000)*target.shape[0]\n",
    "    #lossfn(out, target)*10000+l2_smooth\n",
    "    loss.backward()\n",
    "    optimizer.step()\n",
    "    for p in model.parameters():\n",
    "        p.data.clamp_(0)\n",
    "    return loss"
   ]
  },
  {
   "cell_type": "code",
   "execution_count": 15,
   "id": "0d4f6c0a",
   "metadata": {},
   "outputs": [
    {
     "data": {
      "text/plain": [
       "(51561, 1000)"
      ]
     },
     "execution_count": 15,
     "metadata": {},
     "output_type": "execute_result"
    }
   ],
   "source": [
    "distributions.shape"
   ]
  },
  {
   "cell_type": "code",
   "execution_count": 16,
   "id": "5e3ad632",
   "metadata": {},
   "outputs": [
    {
     "data": {
      "text/plain": [
       "Dosedistr()"
      ]
     },
     "execution_count": 16,
     "metadata": {},
     "output_type": "execute_result"
    }
   ],
   "source": [
    "device='cuda'\n",
    "dose=Dosedistr(51561).to(float).to(device)\n",
    "dose.train()"
   ]
  },
  {
   "cell_type": "code",
   "execution_count": 31,
   "id": "84ccd730",
   "metadata": {
    "scrolled": true
   },
   "outputs": [
    {
     "name": "stdout",
     "output_type": "stream",
     "text": [
      "0 tensor(1155.3217, device='cuda:0', dtype=torch.float64, grad_fn=<MulBackward0>) tensor(0.0050, device='cuda:0', dtype=torch.float64, grad_fn=<SelectBackward0>)\n"
     ]
    },
    {
     "ename": "KeyboardInterrupt",
     "evalue": "",
     "output_type": "error",
     "traceback": [
      "\u001b[1;31m---------------------------------------------------------------------------\u001b[0m",
      "\u001b[1;31mKeyboardInterrupt\u001b[0m                         Traceback (most recent call last)",
      "Input \u001b[1;32mIn [31]\u001b[0m, in \u001b[0;36m<cell line: 3>\u001b[1;34m()\u001b[0m\n\u001b[0;32m      6\u001b[0m     \u001b[38;5;28;01mcontinue\u001b[39;00m\n\u001b[0;32m      7\u001b[0m     lossesADAM\u001b[38;5;241m.\u001b[39mappend(loss\u001b[38;5;241m.\u001b[39mdetach()\u001b[38;5;241m.\u001b[39mcpu()\u001b[38;5;241m.\u001b[39mnumpy())\n\u001b[1;32m----> 8\u001b[0m loss\u001b[38;5;241m=\u001b[39mtrainstep(dose, basis\u001b[38;5;241m.\u001b[39mto(device),\u001b[43mtorch\u001b[49m\u001b[38;5;241;43m.\u001b[39;49m\u001b[43mtensor\u001b[49m\u001b[43m(\u001b[49m\u001b[43mdistributions\u001b[49m\u001b[43m)\u001b[49m\u001b[38;5;241;43m.\u001b[39;49m\u001b[43mto\u001b[49m\u001b[43m(\u001b[49m\u001b[43mdevice\u001b[49m\u001b[43m)\u001b[49m,optimizerADAM,lossfn\u001b[38;5;241m=\u001b[39mtorch\u001b[38;5;241m.\u001b[39mnn\u001b[38;5;241m.\u001b[39mL1Loss())\n\u001b[0;32m      9\u001b[0m \u001b[38;5;28;01mif\u001b[39;00m i\u001b[38;5;241m%\u001b[39m\u001b[38;5;241m100\u001b[39m\u001b[38;5;241m==\u001b[39m\u001b[38;5;241m0\u001b[39m:\n\u001b[0;32m     10\u001b[0m     \u001b[38;5;28mprint\u001b[39m(i,loss,dose\u001b[38;5;241m.\u001b[39mspecs[\u001b[38;5;241m0\u001b[39m][\u001b[38;5;241m0\u001b[39m])\n",
      "\u001b[1;31mKeyboardInterrupt\u001b[0m: "
     ]
    }
   ],
   "source": [
    "lossesADAM=[]\n",
    "optimizerADAM=torch.optim.Adam(dose.parameters(), lr=0.0001)\n",
    "for i in range(10900):\n",
    "    #print(i)\n",
    "    if i%100==51:\n",
    "        continue\n",
    "        lossesADAM.append(loss.detach().cpu().numpy())\n",
    "    loss=trainstep(dose, basis.to(device),torch.tensor(distributions).to(device),optimizerADAM,lossfn=torch.nn.L1Loss())\n",
    "    if i%100==0:\n",
    "        print(i,loss,dose.specs[0][0])\n",
    "    if i<-2000 and i%200==1:\n",
    "        dose.specs.data=dose.specs.data+torch.rand(dose.specs.data.shape).to(device)*0.01\n",
    "outs[number]=dose.specs.data.cpu().detach().numpy()"
   ]
  },
  {
   "cell_type": "code",
   "execution_count": 32,
   "id": "595a73e8",
   "metadata": {},
   "outputs": [
    {
     "data": {
      "text/plain": [
       "[<matplotlib.lines.Line2D at 0x2b4b4324790>]"
      ]
     },
     "execution_count": 32,
     "metadata": {},
     "output_type": "execute_result"
    },
    {
     "data": {
      "image/png": "[encoded data removed]",
      "text/plain": [
       "<Figure size 432x288 with 1 Axes>"
      ]
     },
     "metadata": {
      "needs_background": "light"
     },
     "output_type": "display_data"
    }
   ],
   "source": [
    "NUM=30000\n",
    "plt.plot(dose.specs[:,NUM].cpu().detach())\n",
    "plt.plot(specs[NUM,:])"
   ]
  },
  {
   "cell_type": "code",
   "execution_count": 33,
   "id": "ea698993",
   "metadata": {},
   "outputs": [],
   "source": [
    "#np.save('roughrestoredspecs.npy',dose.specs.data.cpu().detach().numpy())"
   ]
  },
  {
   "cell_type": "code",
   "execution_count": 11,
   "id": "1034e03a",
   "metadata": {},
   "outputs": [],
   "source": [
    "specsrestored=np.load('roughrestoredspecs3.npy')"
   ]
  },
  {
   "cell_type": "code",
   "execution_count": 23,
   "id": "0061d1c0",
   "metadata": {},
   "outputs": [
    {
     "data": {
      "text/plain": [
       "{'Ag', 'Cu', 'Mo', 'Pd', 'Rh', 'W'}"
      ]
     },
     "execution_count": 23,
     "metadata": {},
     "output_type": "execute_result"
    }
   ],
   "source": [
    "set([col.split(',')[1][2:-1] for col in Alldata.columns[:-1]])"
   ]
  },
  {
   "cell_type": "code",
   "execution_count": 10,
   "id": "961988d8",
   "metadata": {},
   "outputs": [
    {
     "ename": "NameError",
     "evalue": "name 'Als' is not defined",
     "output_type": "error",
     "traceback": [
      "\u001b[1;31m---------------------------------------------------------------------------\u001b[0m",
      "\u001b[1;31mNameError\u001b[0m                                 Traceback (most recent call last)",
      "Input \u001b[1;32mIn [10]\u001b[0m, in \u001b[0;36m<cell line: 1>\u001b[1;34m()\u001b[0m\n\u001b[0;32m      1\u001b[0m \u001b[38;5;28;01mfor\u001b[39;00m i \u001b[38;5;129;01min\u001b[39;00m \u001b[38;5;28mrange\u001b[39m(\u001b[38;5;241m10\u001b[39m):\n\u001b[1;32m----> 2\u001b[0m     plt\u001b[38;5;241m.\u001b[39mplot(\u001b[43mAls\u001b[49m[Als\u001b[38;5;241m.\u001b[39mcolumns[i\u001b[38;5;241m*\u001b[39m\u001b[38;5;241m123\u001b[39m]])\n",
      "\u001b[1;31mNameError\u001b[0m: name 'Als' is not defined"
     ]
    }
   ],
   "source": [
    "for i in range(10):\n",
    "    plt.plot(Als[Als.columns[i*123]])"
   ]
  },
  {
   "cell_type": "code",
   "execution_count": 11,
   "id": "40e32146",
   "metadata": {},
   "outputs": [
    {
     "data": {
      "image/png": "[encoded data removed]",
      "text/plain": [
       "<Figure size 432x288 with 1 Axes>"
      ]
     },
     "metadata": {
      "needs_background": "light"
     },
     "output_type": "display_data"
    }
   ],
   "source": [
    "for i in range(10):\n",
    "    plt.plot(Cus[Cus.columns[i*200]])"
   ]
  },
  {
   "cell_type": "code",
   "execution_count": 8,
   "id": "95a53bfb",
   "metadata": {},
   "outputs": [],
   "source": [
    "class ElementClassifier(torch.nn.Module):\n",
    "    def __init__(self):\n",
    "        super().__init__()\n",
    "        self.conv1=torch.nn.Conv1d(1,32,3,padding=1)\n",
    "        self.bn1=torch.nn.BatchNorm1d(32)\n",
    "        self.conv2=torch.nn.Conv1d(32,1,3,padding=1)\n",
    "        self.bn2=torch.nn.BatchNorm1d(1)\n",
    "        self.classifier=torch.nn.Linear(1000,7)\n",
    "        self.linear=torch.nn.Linear(1000,1000)\n",
    "        self.activation=torch.nn.functional.elu\n",
    "    def forward(self,x):\n",
    "        b,c,l=x.shape\n",
    "        y=self.bn1(self.activation(self.conv1(x)))\n",
    "        y=self.bn2(self.activation(self.conv2(y)))\n",
    "        y=self.activation(self.linear(y.reshape(b,-1)))\n",
    "        y=self.classifier(y)\n",
    "        return y.softmax(1)"
   ]
  },
  {
   "cell_type": "code",
   "execution_count": 25,
   "id": "c12dc1c7",
   "metadata": {},
   "outputs": [],
   "source": [
    "def trainstepClass(model,inps,targets, optimizer,lossfn=torch.nn.CrossEntropyLoss()):\n",
    "    optimizer.zero_grad()\n",
    "    out=model(inps)\n",
    "    loss=lossfn(out, targets)\n",
    "    loss.backward()\n",
    "    optimizer.step()\n",
    "    onehot=torch.nn.functional.one_hot(out.argmax(-1),num_classes=7)\n",
    "    #print(onehot.shape, targets.shape)\n",
    "    #print((out).mean(0),targets.mean(0))\n",
    "    acc=(onehot*targets).sum(0).sum(0)/targets.shape[0]\n",
    "    #mean=one\n",
    "    return loss,acc#,mean"
   ]
  },
  {
   "cell_type": "code",
   "execution_count": 10,
   "id": "53ba3779",
   "metadata": {},
   "outputs": [],
   "source": [
    "classifier=torch.load('classifier.pt').cuda()"
   ]
  },
  {
   "cell_type": "code",
   "execution_count": null,
   "id": "de595d4a",
   "metadata": {
    "scrolled": true
   },
   "outputs": [
    {
     "name": "stdout",
     "output_type": "stream",
     "text": [
      "tensor(1.6510, device='cuda:0', dtype=torch.float64, grad_fn=<DivBackward1>) 0.556640625 0 0\n",
      "tensor(1.7276, device='cuda:0', dtype=torch.float64, grad_fn=<DivBackward1>) 0.4228515625 0 1\n",
      "tensor(1.6966, device='cuda:0', dtype=torch.float64, grad_fn=<DivBackward1>) 0.466796875 0 2\n",
      "tensor(1.6775, device='cuda:0', dtype=torch.float64, grad_fn=<DivBackward1>) 0.48681640625 0 3\n",
      "tensor(1.6934, device='cuda:0', dtype=torch.float64, grad_fn=<DivBackward1>) 0.45751953125 0 4\n",
      "tensor(1.6879, device='cuda:0', dtype=torch.float64, grad_fn=<DivBackward1>) 0.47021484375 0 5\n",
      "tensor(1.6736, device='cuda:0', dtype=torch.float64, grad_fn=<DivBackward1>) 0.5087890625 0 6\n",
      "tensor(1.6695, device='cuda:0', dtype=torch.float64, grad_fn=<DivBackward1>) 0.50537109375 0 7\n",
      "tensor(1.6624, device='cuda:0', dtype=torch.float64, grad_fn=<DivBackward1>) 0.517578125 0 8\n"
     ]
    }
   ],
   "source": [
    "#classifier=ElementClassifier().to(float).cuda()\n",
    "optimizer=torch.optim.Adam(classifier.parameters(),lr=0.0001)\n",
    "lossfn=torch.nn.CrossEntropyLoss()\n",
    "#inps=specsrestored\n",
    "inps=distributions.T\n",
    "inps=torch.tensor(inps.T).unsqueeze(1).to(float).cuda()#[:10000]\n",
    "targlist=[(col.split(',')[0][2:-1],col.split(',')[1][2:-1]) for col in Alldata.columns[:-1]]#[:10000]\n",
    "encoder={}\n",
    "decoder={}\n",
    "for i,k in enumerate(set(targlist)):\n",
    "    encoder[k]=i\n",
    "    decoder[i]=k\n",
    "targs=torch.nn.functional.one_hot(torch.tensor([encoder[targ] for targ in targlist])).to(float).cuda()\n",
    "dataset = torch.utils.data.TensorDataset(inps, targs)\n",
    "train,test=torch.utils.data.random_split(dataset,[51561-2048,2048])\n",
    "loader=torch.utils.data.DataLoader(train, batch_size=2048, shuffle=True)\n",
    "losses=[]\n",
    "for epoch in range(100):\n",
    "    for i,batch in enumerate(loader):\n",
    "        inp,targ=batch\n",
    "        #A=i%25\n",
    "        #A=0\n",
    "        #inp,targ=inps[A*2000:A*2000+2000],targs[A*2000:A*2000+2000]\n",
    "        loss,acc=trainstepClass(classifier,inp*100,targ,optimizer)\n",
    "        print(loss,acc.cpu().numpy(),epoch,i)\n",
    "        if i%100==0:\n",
    "            losses.append(loss.detach().cpu().numpy())\n",
    "    with torch.no_grad():\n",
    "        Ans=classifier(test[:][0]*100)\n",
    "        acc=(Ans.argmax(1)==test[:][1].argmax(1)).sum()/len(test)\n",
    "        print('val_acc' ,acc.cpu().numpy(),epoch)"
   ]
  },
  {
   "cell_type": "code",
   "execution_count": 48,
   "id": "f1d4d232",
   "metadata": {},
   "outputs": [
    {
     "name": "stdout",
     "output_type": "stream",
     "text": [
      "0\n"
     ]
    }
   ],
   "source": [
    "ansrs=[]\n",
    "with torch.no_grad():\n",
    "    for i in range(1):\n",
    "        Ans=classifier(train[:][0][1024*i:1024*(i+1)]*100).argmax(1)\n",
    "        ansrs=ansrs+list(Ans.cpu().numpy())\n",
    "        print(i)"
   ]
  },
  {
   "cell_type": "code",
   "execution_count": 10,
   "id": "7fddf0c9",
   "metadata": {},
   "outputs": [],
   "source": [
    "from sklearn.metrics import confusion_matrix, ConfusionMatrixDisplay"
   ]
  },
  {
   "cell_type": "code",
   "execution_count": 51,
   "id": "c1aa9684",
   "metadata": {},
   "outputs": [],
   "source": [
    "cm=confusion_matrix(ansrs, train[:][1][:len(ansrs)].argmax(1).cpu())"
   ]
  },
  {
   "cell_type": "code",
   "execution_count": 24,
   "id": "0f1514e3",
   "metadata": {},
   "outputs": [],
   "source": [
    "y_pred=np.load('pred.npy')\n",
    "y_true=np.load('true.npy')"
   ]
  },
  {
   "cell_type": "code",
   "execution_count": 25,
   "id": "2475991b",
   "metadata": {},
   "outputs": [
    {
     "data": {
      "text/plain": [
       "<sklearn.metrics._plot.confusion_matrix.ConfusionMatrixDisplay at 0x2c3db7b9a50>"
      ]
     },
     "execution_count": 25,
     "metadata": {},
     "output_type": "execute_result"
    },
    {
     "data": {
      "image/png": "[encoded data removed]",
      "text/plain": [
       "<Figure size 432x288 with 2 Axes>"
      ]
     },
     "metadata": {
      "needs_background": "light"
     },
     "output_type": "display_data"
    }
   ],
   "source": [
    "ConfusionMatrixDisplay.from_predictions(y_pred=y_pred, y_true=y_true, \n",
    "                                        display_labels=['Cu-Cu','Mo','Pd','Rh','Ag','Cu','W'])"
   ]
  },
  {
   "cell_type": "code",
   "execution_count": 7,
   "id": "b156c9cb",
   "metadata": {},
   "outputs": [],
   "source": [
    "import numpy as np\n",
    "losses=np.load('losses.npy')\n",
    "accs=np.load('accs.npy')\n",
    "vallosses=np.load('vallosses.npy')\n",
    "valaccs=np.load('valaccs.npy')"
   ]
  },
  {
   "cell_type": "code",
   "execution_count": 8,
   "id": "c7469f8d",
   "metadata": {},
   "outputs": [],
   "source": [
    "class NeuralFixer(torch.nn.Module):\n",
    "    def __init__(self, in_channels=1):\n",
    "        super(NeuralFixer, self).__init__()\n",
    "        self.conv1 = torch.nn.Conv1d(in_channels, 8, kernel_size=3, padding=1)\n",
    "        self.conv2 = torch.nn.Conv1d(8, 2, kernel_size=3, padding=1)\n",
    "        # Layer 2\n",
    "        self.conv3 = torch.nn.Conv1d(2, 241, kernel_size=241, padding=0,bias=True)\n",
    "        self.relu =torch.nn.functional.relu\n",
    "        self.tanh=torch.nn.functional.tanh\n",
    "    def forward(self, z):\n",
    "        B,C,W=z.shape\n",
    "        #x = self.relu(self.adapt_nn(z)).cuda()\n",
    "        #x = x.view(x.size(0), self.in_channels, self.length // 2 // 2 // 2)\n",
    "        x = self.relu(self.conv1(z))\n",
    "        x = self.relu(self.conv2(x))\n",
    "        x = self.tanh(self.conv3(x))\n",
    "        out =x.reshape(B,-1)\n",
    "        return out\n",
    "def trainstepfixer(model,inp,target, optimizer,lossfn=torch.nn.L1Loss()):\n",
    "    optimizer.zero_grad()\n",
    "    out=model(inp)\n",
    "    loss=lossfn(out, target)*100\n",
    "    loss.backward()\n",
    "    optimizer.step()    \n",
    "    return loss"
   ]
  },
  {
   "cell_type": "code",
   "execution_count": 12,
   "id": "7f926b02",
   "metadata": {},
   "outputs": [],
   "source": [
    "Alldata=Alldata.fillna(0)\n",
    "diff=torch.tensor(np.array(Alldata)[:,:-1]-specsrestored)"
   ]
  },
  {
   "cell_type": "code",
   "execution_count": 27,
   "id": "84945401",
   "metadata": {},
   "outputs": [
    {
     "name": "stderr",
     "output_type": "stream",
     "text": [
      "C:\\Users\\anona\\AppData\\Local\\Temp\\ipykernel_11388\\3846084267.py:9: UserWarning: To copy construct from a tensor, it is recommended to use sourceTensor.clone().detach() or sourceTensor.clone().detach().requires_grad_(True), rather than torch.tensor(sourceTensor).\n",
      "  targchunk=torch.tensor(diff[:,predsall==i].T*10).to(float)[:SPL]#.cuda()\n",
      "C:\\Users\\anona\\AppData\\Local\\Temp\\ipykernel_11388\\3846084267.py:11: UserWarning: To copy construct from a tensor, it is recommended to use sourceTensor.clone().detach() or sourceTensor.clone().detach().requires_grad_(True), rather than torch.tensor(sourceTensor).\n",
      "  targval=torch.tensor(diff[:,predsall==i].T*10).to(float)[SPL:]\n"
     ]
    },
    {
     "name": "stdout",
     "output_type": "stream",
     "text": [
      "tensor(7.8675, dtype=torch.float64, grad_fn=<MulBackward0>) tensor(4.3629, dtype=torch.float64) 10\n",
      "tensor(2.7808, dtype=torch.float64, grad_fn=<MulBackward0>) tensor(3.7980, dtype=torch.float64) 10\n",
      "tensor(1.7470, dtype=torch.float64, grad_fn=<MulBackward0>) tensor(4.1190, dtype=torch.float64) 10\n",
      "tensor(1.4028, dtype=torch.float64, grad_fn=<MulBackward0>) tensor(4.0521, dtype=torch.float64) 10\n",
      "tensor(1.3107, dtype=torch.float64, grad_fn=<MulBackward0>) tensor(4.0204, dtype=torch.float64) 10\n",
      "tensor(1.2215, dtype=torch.float64, grad_fn=<MulBackward0>) tensor(4.0255, dtype=torch.float64) 10\n",
      "tensor(1.1802, dtype=torch.float64, grad_fn=<MulBackward0>) tensor(4.0627, dtype=torch.float64) 10\n",
      "tensor(1.1562, dtype=torch.float64, grad_fn=<MulBackward0>) tensor(4.0604, dtype=torch.float64) 10\n",
      "tensor(1.1324, dtype=torch.float64, grad_fn=<MulBackward0>) tensor(4.0618, dtype=torch.float64) 10\n",
      "tensor(1.1283, dtype=torch.float64, grad_fn=<MulBackward0>) tensor(4.0780, dtype=torch.float64) 10\n",
      "tensor(2.8017, dtype=torch.float64, grad_fn=<MulBackward0>) tensor(4.6584, dtype=torch.float64) 100\n",
      "tensor(1.7067, dtype=torch.float64, grad_fn=<MulBackward0>) tensor(2.3801, dtype=torch.float64) 100\n",
      "tensor(1.4207, dtype=torch.float64, grad_fn=<MulBackward0>) tensor(1.8375, dtype=torch.float64) 100\n",
      "tensor(1.3438, dtype=torch.float64, grad_fn=<MulBackward0>) tensor(1.6698, dtype=torch.float64) 100\n",
      "tensor(1.3016, dtype=torch.float64, grad_fn=<MulBackward0>) tensor(1.6614, dtype=torch.float64) 100\n",
      "tensor(1.2798, dtype=torch.float64, grad_fn=<MulBackward0>) tensor(1.6696, dtype=torch.float64) 100\n",
      "tensor(1.2678, dtype=torch.float64, grad_fn=<MulBackward0>) tensor(1.6755, dtype=torch.float64) 100\n",
      "tensor(1.2593, dtype=torch.float64, grad_fn=<MulBackward0>) tensor(1.6756, dtype=torch.float64) 100\n",
      "tensor(1.2530, dtype=torch.float64, grad_fn=<MulBackward0>) tensor(1.6753, dtype=torch.float64) 100\n",
      "tensor(1.2448, dtype=torch.float64, grad_fn=<MulBackward0>) tensor(1.6755, dtype=torch.float64) 100\n",
      "tensor(2.2853, dtype=torch.float64, grad_fn=<MulBackward0>) tensor(1.7572, dtype=torch.float64) 1000\n",
      "tensor(2.1323, dtype=torch.float64, grad_fn=<MulBackward0>) tensor(1.4379, dtype=torch.float64) 1000\n",
      "tensor(2.0315, dtype=torch.float64, grad_fn=<MulBackward0>) tensor(1.3924, dtype=torch.float64) 1000\n",
      "tensor(1.9946, dtype=torch.float64, grad_fn=<MulBackward0>) tensor(1.3609, dtype=torch.float64) 1000\n",
      "tensor(1.9700, dtype=torch.float64, grad_fn=<MulBackward0>) tensor(1.3316, dtype=torch.float64) 1000\n",
      "tensor(1.9519, dtype=torch.float64, grad_fn=<MulBackward0>) tensor(1.3374, dtype=torch.float64) 1000\n",
      "tensor(1.9358, dtype=torch.float64, grad_fn=<MulBackward0>) tensor(1.3280, dtype=torch.float64) 1000\n",
      "tensor(1.9278, dtype=torch.float64, grad_fn=<MulBackward0>) tensor(1.3293, dtype=torch.float64) 1000\n",
      "tensor(1.9095, dtype=torch.float64, grad_fn=<MulBackward0>) tensor(1.3313, dtype=torch.float64) 1000\n",
      "tensor(1.8761, dtype=torch.float64, grad_fn=<MulBackward0>) tensor(1.3400, dtype=torch.float64) 1000\n",
      "tensor(2.0733, dtype=torch.float64, grad_fn=<MulBackward0>) tensor(1.3633, dtype=torch.float64) 3000\n",
      "tensor(2.0594, dtype=torch.float64, grad_fn=<MulBackward0>) tensor(1.0361, dtype=torch.float64) 3000\n",
      "tensor(1.9892, dtype=torch.float64, grad_fn=<MulBackward0>) tensor(0.8994, dtype=torch.float64) 3000\n",
      "tensor(1.9514, dtype=torch.float64, grad_fn=<MulBackward0>) tensor(0.9167, dtype=torch.float64) 3000\n",
      "tensor(1.9169, dtype=torch.float64, grad_fn=<MulBackward0>) tensor(0.9035, dtype=torch.float64) 3000\n",
      "tensor(1.8818, dtype=torch.float64, grad_fn=<MulBackward0>) tensor(0.8986, dtype=torch.float64) 3000\n",
      "tensor(1.8379, dtype=torch.float64, grad_fn=<MulBackward0>) tensor(0.9099, dtype=torch.float64) 3000\n",
      "tensor(1.7760, dtype=torch.float64, grad_fn=<MulBackward0>) tensor(0.9127, dtype=torch.float64) 3000\n",
      "tensor(1.6737, dtype=torch.float64, grad_fn=<MulBackward0>) tensor(0.9219, dtype=torch.float64) 3000\n",
      "tensor(1.5472, dtype=torch.float64, grad_fn=<MulBackward0>) tensor(0.9436, dtype=torch.float64) 3000\n"
     ]
    },
    {
     "data": {
      "text/plain": [
       "Text(0, 0.5, 'L1 * 100')"
      ]
     },
     "execution_count": 27,
     "metadata": {},
     "output_type": "execute_result"
    },
    {
     "data": {
      "image/png": "[encoded data removed]",
      "text/plain": [
       "<Figure size 432x288 with 1 Axes>"
      ]
     },
     "metadata": {
      "needs_background": "light"
     },
     "output_type": "display_data"
    }
   ],
   "source": [
    "predsall=np.load('predsall.npy')\n",
    "alldata=np.array(Alldata)[:,:-1]\n",
    "nfixers=[NeuralFixer().to(float) for i in range(7)]\n",
    "for SPL in [10,100,1000,3000]:\n",
    "    lossesval=[]\n",
    "    losses=[]\n",
    "    for i in [2]:\n",
    "        inpchunk=torch.tensor(specsrestored[:,predsall==i].T*10).unsqueeze(1).to(float)[:SPL]#.cuda()\n",
    "        targchunk=torch.tensor(diff[:,predsall==i].T*10).to(float)[:SPL]#.cuda()\n",
    "        valch=torch.tensor(specsrestored[:,predsall==i].T*10).unsqueeze(1).to(float)[SPL:]\n",
    "        targval=torch.tensor(diff[:,predsall==i].T*10).to(float)[SPL:]\n",
    "        optimizer=torch.optim.Adam(nfixers[i].parameters())\n",
    "        for ctr in range(100):\n",
    "            loss=trainstepfixer(nfixers[i],inpchunk,targchunk,optimizer)\n",
    "            with torch.no_grad():\n",
    "                lossval=torch.nn.L1Loss()(nfixers[i](valch),targval)*100\n",
    "            if ctr%10==0:\n",
    "                print(loss,lossval, SPL)\n",
    "            losses.append(loss.detach().numpy())\n",
    "            lossesval.append(lossval.detach().numpy())\n",
    "        plt.plot(losses,label='L1 {}'.format(SPL))\n",
    "        plt.plot(lossesval,label='L1val {}'.format(SPL))\n",
    "plt.legend()\n",
    "plt.xlabel('N of epoch')\n",
    "plt.ylabel('L1 * 100')"
   ]
  },
  {
   "cell_type": "code",
   "execution_count": 26,
   "id": "5e2d2cf4",
   "metadata": {},
   "outputs": [
    {
     "ename": "RuntimeError",
     "evalue": "Can't call numpy() on Tensor that requires grad. Use tensor.detach().numpy() instead.",
     "output_type": "error",
     "traceback": [
      "\u001b[1;31m---------------------------------------------------------------------------\u001b[0m",
      "\u001b[1;31mRuntimeError\u001b[0m                              Traceback (most recent call last)",
      "Input \u001b[1;32mIn [26]\u001b[0m, in \u001b[0;36m<cell line: 1>\u001b[1;34m()\u001b[0m\n\u001b[1;32m----> 1\u001b[0m \u001b[43mplt\u001b[49m\u001b[38;5;241;43m.\u001b[39;49m\u001b[43mplot\u001b[49m\u001b[43m(\u001b[49m\u001b[43mloss\u001b[49m\u001b[43m)\u001b[49m\n",
      "File \u001b[1;32mD:\\anaconda3\\envs\\pytorch\\lib\\site-packages\\matplotlib\\pyplot.py:2730\u001b[0m, in \u001b[0;36mplot\u001b[1;34m(scalex, scaley, data, *args, **kwargs)\u001b[0m\n\u001b[0;32m   2728\u001b[0m \u001b[38;5;129m@_copy_docstring_and_deprecators\u001b[39m(Axes\u001b[38;5;241m.\u001b[39mplot)\n\u001b[0;32m   2729\u001b[0m \u001b[38;5;28;01mdef\u001b[39;00m \u001b[38;5;21mplot\u001b[39m(\u001b[38;5;241m*\u001b[39margs, scalex\u001b[38;5;241m=\u001b[39m\u001b[38;5;28;01mTrue\u001b[39;00m, scaley\u001b[38;5;241m=\u001b[39m\u001b[38;5;28;01mTrue\u001b[39;00m, data\u001b[38;5;241m=\u001b[39m\u001b[38;5;28;01mNone\u001b[39;00m, \u001b[38;5;241m*\u001b[39m\u001b[38;5;241m*\u001b[39mkwargs):\n\u001b[1;32m-> 2730\u001b[0m     \u001b[38;5;28;01mreturn\u001b[39;00m gca()\u001b[38;5;241m.\u001b[39mplot(\n\u001b[0;32m   2731\u001b[0m         \u001b[38;5;241m*\u001b[39margs, scalex\u001b[38;5;241m=\u001b[39mscalex, scaley\u001b[38;5;241m=\u001b[39mscaley,\n\u001b[0;32m   2732\u001b[0m         \u001b[38;5;241m*\u001b[39m\u001b[38;5;241m*\u001b[39m({\u001b[38;5;124m\"\u001b[39m\u001b[38;5;124mdata\u001b[39m\u001b[38;5;124m\"\u001b[39m: data} \u001b[38;5;28;01mif\u001b[39;00m data \u001b[38;5;129;01mis\u001b[39;00m \u001b[38;5;129;01mnot\u001b[39;00m \u001b[38;5;28;01mNone\u001b[39;00m \u001b[38;5;28;01melse\u001b[39;00m {}), \u001b[38;5;241m*\u001b[39m\u001b[38;5;241m*\u001b[39mkwargs)\n",
      "File \u001b[1;32mD:\\anaconda3\\envs\\pytorch\\lib\\site-packages\\matplotlib\\axes\\_axes.py:1662\u001b[0m, in \u001b[0;36mAxes.plot\u001b[1;34m(self, scalex, scaley, data, *args, **kwargs)\u001b[0m\n\u001b[0;32m   1419\u001b[0m \u001b[38;5;124;03m\"\"\"\u001b[39;00m\n\u001b[0;32m   1420\u001b[0m \u001b[38;5;124;03mPlot y versus x as lines and/or markers.\u001b[39;00m\n\u001b[0;32m   1421\u001b[0m \n\u001b[1;32m   (...)\u001b[0m\n\u001b[0;32m   1659\u001b[0m \u001b[38;5;124;03m(``'green'``) or hex strings (``'#008000'``).\u001b[39;00m\n\u001b[0;32m   1660\u001b[0m \u001b[38;5;124;03m\"\"\"\u001b[39;00m\n\u001b[0;32m   1661\u001b[0m kwargs \u001b[38;5;241m=\u001b[39m cbook\u001b[38;5;241m.\u001b[39mnormalize_kwargs(kwargs, mlines\u001b[38;5;241m.\u001b[39mLine2D)\n\u001b[1;32m-> 1662\u001b[0m lines \u001b[38;5;241m=\u001b[39m [\u001b[38;5;241m*\u001b[39m\u001b[38;5;28mself\u001b[39m\u001b[38;5;241m.\u001b[39m_get_lines(\u001b[38;5;241m*\u001b[39margs, data\u001b[38;5;241m=\u001b[39mdata, \u001b[38;5;241m*\u001b[39m\u001b[38;5;241m*\u001b[39mkwargs)]\n\u001b[0;32m   1663\u001b[0m \u001b[38;5;28;01mfor\u001b[39;00m line \u001b[38;5;129;01min\u001b[39;00m lines:\n\u001b[0;32m   1664\u001b[0m     \u001b[38;5;28mself\u001b[39m\u001b[38;5;241m.\u001b[39madd_line(line)\n",
      "File \u001b[1;32mD:\\anaconda3\\envs\\pytorch\\lib\\site-packages\\matplotlib\\axes\\_base.py:311\u001b[0m, in \u001b[0;36m_process_plot_var_args.__call__\u001b[1;34m(self, data, *args, **kwargs)\u001b[0m\n\u001b[0;32m    309\u001b[0m     this \u001b[38;5;241m+\u001b[39m\u001b[38;5;241m=\u001b[39m args[\u001b[38;5;241m0\u001b[39m],\n\u001b[0;32m    310\u001b[0m     args \u001b[38;5;241m=\u001b[39m args[\u001b[38;5;241m1\u001b[39m:]\n\u001b[1;32m--> 311\u001b[0m \u001b[38;5;28;01myield from\u001b[39;00m \u001b[38;5;28;43mself\u001b[39;49m\u001b[38;5;241;43m.\u001b[39;49m\u001b[43m_plot_args\u001b[49m\u001b[43m(\u001b[49m\n\u001b[0;32m    312\u001b[0m \u001b[43m    \u001b[49m\u001b[43mthis\u001b[49m\u001b[43m,\u001b[49m\u001b[43m \u001b[49m\u001b[43mkwargs\u001b[49m\u001b[43m,\u001b[49m\u001b[43m \u001b[49m\u001b[43mambiguous_fmt_datakey\u001b[49m\u001b[38;5;241;43m=\u001b[39;49m\u001b[43mambiguous_fmt_datakey\u001b[49m\u001b[43m)\u001b[49m\n",
      "File \u001b[1;32mD:\\anaconda3\\envs\\pytorch\\lib\\site-packages\\matplotlib\\axes\\_base.py:496\u001b[0m, in \u001b[0;36m_process_plot_var_args._plot_args\u001b[1;34m(self, tup, kwargs, return_kwargs, ambiguous_fmt_datakey)\u001b[0m\n\u001b[0;32m    494\u001b[0m     y \u001b[38;5;241m=\u001b[39m _check_1d(xy[\u001b[38;5;241m1\u001b[39m])\n\u001b[0;32m    495\u001b[0m \u001b[38;5;28;01melse\u001b[39;00m:\n\u001b[1;32m--> 496\u001b[0m     x, y \u001b[38;5;241m=\u001b[39m \u001b[43mindex_of\u001b[49m\u001b[43m(\u001b[49m\u001b[43mxy\u001b[49m\u001b[43m[\u001b[49m\u001b[38;5;241;43m-\u001b[39;49m\u001b[38;5;241;43m1\u001b[39;49m\u001b[43m]\u001b[49m\u001b[43m)\u001b[49m\n\u001b[0;32m    498\u001b[0m \u001b[38;5;28;01mif\u001b[39;00m \u001b[38;5;28mself\u001b[39m\u001b[38;5;241m.\u001b[39maxes\u001b[38;5;241m.\u001b[39mxaxis \u001b[38;5;129;01mis\u001b[39;00m \u001b[38;5;129;01mnot\u001b[39;00m \u001b[38;5;28;01mNone\u001b[39;00m:\n\u001b[0;32m    499\u001b[0m     \u001b[38;5;28mself\u001b[39m\u001b[38;5;241m.\u001b[39maxes\u001b[38;5;241m.\u001b[39mxaxis\u001b[38;5;241m.\u001b[39mupdate_units(x)\n",
      "File \u001b[1;32mD:\\anaconda3\\envs\\pytorch\\lib\\site-packages\\matplotlib\\cbook\\__init__.py:1690\u001b[0m, in \u001b[0;36mindex_of\u001b[1;34m(y)\u001b[0m\n\u001b[0;32m   1688\u001b[0m     \u001b[38;5;28;01mpass\u001b[39;00m\n\u001b[0;32m   1689\u001b[0m \u001b[38;5;28;01mtry\u001b[39;00m:\n\u001b[1;32m-> 1690\u001b[0m     y \u001b[38;5;241m=\u001b[39m \u001b[43m_check_1d\u001b[49m\u001b[43m(\u001b[49m\u001b[43my\u001b[49m\u001b[43m)\u001b[49m\n\u001b[0;32m   1691\u001b[0m \u001b[38;5;28;01mexcept\u001b[39;00m (np\u001b[38;5;241m.\u001b[39mVisibleDeprecationWarning, \u001b[38;5;167;01mValueError\u001b[39;00m):\n\u001b[0;32m   1692\u001b[0m     \u001b[38;5;66;03m# NumPy 1.19 will warn on ragged input, and we can't actually use it.\u001b[39;00m\n\u001b[0;32m   1693\u001b[0m     \u001b[38;5;28;01mpass\u001b[39;00m\n",
      "File \u001b[1;32mD:\\anaconda3\\envs\\pytorch\\lib\\site-packages\\matplotlib\\cbook\\__init__.py:1382\u001b[0m, in \u001b[0;36m_check_1d\u001b[1;34m(x)\u001b[0m\n\u001b[0;32m   1376\u001b[0m \u001b[38;5;66;03m# plot requires `shape` and `ndim`.  If passed an\u001b[39;00m\n\u001b[0;32m   1377\u001b[0m \u001b[38;5;66;03m# object that doesn't provide them, then force to numpy array.\u001b[39;00m\n\u001b[0;32m   1378\u001b[0m \u001b[38;5;66;03m# Note this will strip unit information.\u001b[39;00m\n\u001b[0;32m   1379\u001b[0m \u001b[38;5;28;01mif\u001b[39;00m (\u001b[38;5;129;01mnot\u001b[39;00m \u001b[38;5;28mhasattr\u001b[39m(x, \u001b[38;5;124m'\u001b[39m\u001b[38;5;124mshape\u001b[39m\u001b[38;5;124m'\u001b[39m) \u001b[38;5;129;01mor\u001b[39;00m\n\u001b[0;32m   1380\u001b[0m         \u001b[38;5;129;01mnot\u001b[39;00m \u001b[38;5;28mhasattr\u001b[39m(x, \u001b[38;5;124m'\u001b[39m\u001b[38;5;124mndim\u001b[39m\u001b[38;5;124m'\u001b[39m) \u001b[38;5;129;01mor\u001b[39;00m\n\u001b[0;32m   1381\u001b[0m         \u001b[38;5;28mlen\u001b[39m(x\u001b[38;5;241m.\u001b[39mshape) \u001b[38;5;241m<\u001b[39m \u001b[38;5;241m1\u001b[39m):\n\u001b[1;32m-> 1382\u001b[0m     \u001b[38;5;28;01mreturn\u001b[39;00m \u001b[43mnp\u001b[49m\u001b[38;5;241;43m.\u001b[39;49m\u001b[43matleast_1d\u001b[49m\u001b[43m(\u001b[49m\u001b[43mx\u001b[49m\u001b[43m)\u001b[49m\n\u001b[0;32m   1383\u001b[0m \u001b[38;5;28;01melse\u001b[39;00m:\n\u001b[0;32m   1384\u001b[0m     \u001b[38;5;28;01mreturn\u001b[39;00m x\n",
      "File \u001b[1;32m<__array_function__ internals>:180\u001b[0m, in \u001b[0;36matleast_1d\u001b[1;34m(*args, **kwargs)\u001b[0m\n",
      "File \u001b[1;32mD:\\anaconda3\\envs\\pytorch\\lib\\site-packages\\numpy\\core\\shape_base.py:65\u001b[0m, in \u001b[0;36matleast_1d\u001b[1;34m(*arys)\u001b[0m\n\u001b[0;32m     63\u001b[0m res \u001b[38;5;241m=\u001b[39m []\n\u001b[0;32m     64\u001b[0m \u001b[38;5;28;01mfor\u001b[39;00m ary \u001b[38;5;129;01min\u001b[39;00m arys:\n\u001b[1;32m---> 65\u001b[0m     ary \u001b[38;5;241m=\u001b[39m \u001b[43masanyarray\u001b[49m\u001b[43m(\u001b[49m\u001b[43mary\u001b[49m\u001b[43m)\u001b[49m\n\u001b[0;32m     66\u001b[0m     \u001b[38;5;28;01mif\u001b[39;00m ary\u001b[38;5;241m.\u001b[39mndim \u001b[38;5;241m==\u001b[39m \u001b[38;5;241m0\u001b[39m:\n\u001b[0;32m     67\u001b[0m         result \u001b[38;5;241m=\u001b[39m ary\u001b[38;5;241m.\u001b[39mreshape(\u001b[38;5;241m1\u001b[39m)\n",
      "File \u001b[1;32mD:\\anaconda3\\envs\\pytorch\\lib\\site-packages\\torch\\_tensor.py:757\u001b[0m, in \u001b[0;36mTensor.__array__\u001b[1;34m(self, dtype)\u001b[0m\n\u001b[0;32m    755\u001b[0m     \u001b[38;5;28;01mreturn\u001b[39;00m handle_torch_function(Tensor\u001b[38;5;241m.\u001b[39m__array__, (\u001b[38;5;28mself\u001b[39m,), \u001b[38;5;28mself\u001b[39m, dtype\u001b[38;5;241m=\u001b[39mdtype)\n\u001b[0;32m    756\u001b[0m \u001b[38;5;28;01mif\u001b[39;00m dtype \u001b[38;5;129;01mis\u001b[39;00m \u001b[38;5;28;01mNone\u001b[39;00m:\n\u001b[1;32m--> 757\u001b[0m     \u001b[38;5;28;01mreturn\u001b[39;00m \u001b[38;5;28;43mself\u001b[39;49m\u001b[38;5;241;43m.\u001b[39;49m\u001b[43mnumpy\u001b[49m\u001b[43m(\u001b[49m\u001b[43m)\u001b[49m\n\u001b[0;32m    758\u001b[0m \u001b[38;5;28;01melse\u001b[39;00m:\n\u001b[0;32m    759\u001b[0m     \u001b[38;5;28;01mreturn\u001b[39;00m \u001b[38;5;28mself\u001b[39m\u001b[38;5;241m.\u001b[39mnumpy()\u001b[38;5;241m.\u001b[39mastype(dtype, copy\u001b[38;5;241m=\u001b[39m\u001b[38;5;28;01mFalse\u001b[39;00m)\n",
      "\u001b[1;31mRuntimeError\u001b[0m: Can't call numpy() on Tensor that requires grad. Use tensor.detach().numpy() instead."
     ]
    },
    {
     "data": {
      "image/png": "[encoded data removed]",
      "text/plain": [
       "<Figure size 432x288 with 1 Axes>"
      ]
     },
     "metadata": {
      "needs_background": "light"
     },
     "output_type": "display_data"
    }
   ],
   "source": [
    "plt.plot(loss)"
   ]
  },
  {
   "cell_type": "code",
   "execution_count": 134,
   "id": "92295f06",
   "metadata": {},
   "outputs": [],
   "source": [
    "with torch.no_grad():\n",
    "    corrected=specsrestored.T.copy()*10\n",
    "    for i in range(7):\n",
    "        chunk=torch.tensor(corrected[predsall==i,:]).unsqueeze(1)\n",
    "        corrected[predsall==i,:]=corrected[predsall==i,:]+nfixers[i](chunk).numpy()"
   ]
  },
  {
   "cell_type": "code",
   "execution_count": 166,
   "id": "96ec7c65",
   "metadata": {},
   "outputs": [
    {
     "ename": "NameError",
     "evalue": "name 'encoder' is not defined",
     "output_type": "error",
     "traceback": [
      "\u001b[1;31m---------------------------------------------------------------------------\u001b[0m",
      "\u001b[1;31mNameError\u001b[0m                                 Traceback (most recent call last)",
      "Input \u001b[1;32mIn [166]\u001b[0m, in \u001b[0;36m<cell line: 1>\u001b[1;34m()\u001b[0m\n\u001b[0;32m      1\u001b[0m \u001b[38;5;28;01mfor\u001b[39;00m i, model \u001b[38;5;129;01min\u001b[39;00m \u001b[38;5;28menumerate\u001b[39m(nfixers):\n\u001b[1;32m----> 2\u001b[0m     torch\u001b[38;5;241m.\u001b[39msave(\u001b[38;5;124m'\u001b[39m\u001b[38;5;124mcorrectormodel_\u001b[39m\u001b[38;5;132;01m{}\u001b[39;00m\u001b[38;5;124m.pt\u001b[39m\u001b[38;5;124m'\u001b[39m\u001b[38;5;241m.\u001b[39mformat(\u001b[43mencoder\u001b[49m[i]),model)\n",
      "\u001b[1;31mNameError\u001b[0m: name 'encoder' is not defined"
     ]
    }
   ],
   "source": [
    "for i, model in enumerate(nfixers):\n",
    "    torch.save('correctormodel_{}.pt'.format(encoder[i]),model)"
   ]
  },
  {
   "cell_type": "code",
   "execution_count": 167,
   "id": "060ec684",
   "metadata": {},
   "outputs": [
    {
     "ename": "NameError",
     "evalue": "name 'encoders' is not defined",
     "output_type": "error",
     "traceback": [
      "\u001b[1;31m---------------------------------------------------------------------------\u001b[0m",
      "\u001b[1;31mNameError\u001b[0m                                 Traceback (most recent call last)",
      "Input \u001b[1;32mIn [167]\u001b[0m, in \u001b[0;36m<cell line: 1>\u001b[1;34m()\u001b[0m\n\u001b[1;32m----> 1\u001b[0m \u001b[43mencoders\u001b[49m\n",
      "\u001b[1;31mNameError\u001b[0m: name 'encoders' is not defined"
     ]
    }
   ],
   "source": [
    "np.abs((specsrestored-alldata)).mean()"
   ]
  },
  {
   "cell_type": "code",
   "execution_count": 198,
   "id": "72361bd6",
   "metadata": {},
   "outputs": [
    {
     "data": {
      "image/png": "[encoded data removed]",
      "text/plain": [
       "<Figure size 432x288 with 1 Axes>"
      ]
     },
     "metadata": {
      "needs_background": "light"
     },
     "output_type": "display_data"
    }
   ],
   "source": [
    "for j in range(3):\n",
    "    plt.plot(specsrestored.T[1000*j+15]/10)\n",
    "    plt.plot(corrected[1000*j+15]/10)"
   ]
  },
  {
   "cell_type": "code",
   "execution_count": 161,
   "id": "3f8d32f5",
   "metadata": {},
   "outputs": [
    {
     "data": {
      "text/plain": [
       "0.0011665169573828633"
      ]
     },
     "execution_count": 161,
     "metadata": {},
     "output_type": "execute_result"
    }
   ],
   "source": [
    "np.abs((specsrestored-alldata)).mean()"
   ]
  },
  {
   "cell_type": "code",
   "execution_count": 173,
   "id": "4ceef530",
   "metadata": {},
   "outputs": [
    {
     "data": {
      "text/plain": [
       "0.005986199901548474"
      ]
     },
     "execution_count": 173,
     "metadata": {},
     "output_type": "execute_result"
    }
   ],
   "source": [
    "np.abs((corrected.T/10-alldata)).std()"
   ]
  },
  {
   "cell_type": "code",
   "execution_count": 163,
   "id": "54549fda",
   "metadata": {},
   "outputs": [
    {
     "data": {
      "text/plain": [
       "0.0009525838150694399"
      ]
     },
     "execution_count": 163,
     "metadata": {},
     "output_type": "execute_result"
    }
   ],
   "source": [
    "np.abs((corrected.T/10-alldata)).mean()"
   ]
  }
 ],
 "metadata": {
  "kernelspec": {
   "display_name": "Python 3 (ipykernel)",
   "language": "python",
   "name": "python3"
  },
  "language_info": {
   "codemirror_mode": {
    "name": "ipython",
    "version": 3
   },
   "file_extension": ".py",
   "mimetype": "text/x-python",
   "name": "python",
   "nbconvert_exporter": "python",
   "pygments_lexer": "ipython3",
   "version": "3.10.5"
  }
 },
 "nbformat": 4,
 "nbformat_minor": 5
}
